{
  "nbformat": 4,
  "nbformat_minor": 0,
  "metadata": {
    "colab": {
      "provenance": [],
      "include_colab_link": true
    },
    "kernelspec": {
      "name": "python3",
      "display_name": "Python 3"
    }
  },
  "cells": [
    {
      "cell_type": "markdown",
      "metadata": {
        "id": "view-in-github",
        "colab_type": "text"
      },
      "source": [
        "<a href=\"https://colab.research.google.com/github/Agnik101/ANN_Regression-vs-Multiple-Linear-Regression/blob/main/ANN_Regression.ipynb\" target=\"_parent\"><img src=\"https://colab.research.google.com/assets/colab-badge.svg\" alt=\"Open In Colab\"/></a>"
      ]
    },
    {
      "cell_type": "markdown",
      "metadata": {
        "id": "3cbb7fRy-eyr"
      },
      "source": [
        "# Artificial Neural Network"
      ]
    },
    {
      "cell_type": "markdown",
      "metadata": {
        "id": "8sNDnxE2-pwE"
      },
      "source": [
        "### Importing the libraries"
      ]
    },
    {
      "cell_type": "code",
      "source": [
        "import pandas as pd\n",
        "import numpy as np\n",
        "import tensorflow as tf"
      ],
      "metadata": {
        "id": "cwvMKzuxDMWK"
      },
      "execution_count": 1,
      "outputs": []
    },
    {
      "cell_type": "code",
      "source": [
        "tf.__version__"
      ],
      "metadata": {
        "colab": {
          "base_uri": "https://localhost:8080/",
          "height": 36
        },
        "id": "-MvYWApqDjDI",
        "outputId": "58e65be9-bd1e-4c03-e957-2d41739f590e"
      },
      "execution_count": 2,
      "outputs": [
        {
          "output_type": "execute_result",
          "data": {
            "text/plain": [
              "'2.15.0'"
            ],
            "application/vnd.google.colaboratory.intrinsic+json": {
              "type": "string"
            }
          },
          "metadata": {},
          "execution_count": 2
        }
      ]
    },
    {
      "cell_type": "markdown",
      "metadata": {
        "id": "-4zq8Mza_D9O"
      },
      "source": [
        "### Importing the dataset"
      ]
    },
    {
      "cell_type": "code",
      "source": [
        "data=pd.read_excel('/content/Folds5x2_pp.xlsx')\n",
        "data.head()\n"
      ],
      "metadata": {
        "colab": {
          "base_uri": "https://localhost:8080/",
          "height": 206
        },
        "id": "vB0wPGG7HZhK",
        "outputId": "02350f7e-2442-4cfa-bcff-4979a703ebab"
      },
      "execution_count": 4,
      "outputs": [
        {
          "output_type": "execute_result",
          "data": {
            "text/plain": [
              "      AT      V       AP     RH      PE\n",
              "0  14.96  41.76  1024.07  73.17  463.26\n",
              "1  25.18  62.96  1020.04  59.08  444.37\n",
              "2   5.11  39.40  1012.16  92.14  488.56\n",
              "3  20.86  57.32  1010.24  76.64  446.48\n",
              "4  10.82  37.50  1009.23  96.62  473.90"
            ],
            "text/html": [
              "\n",
              "  <div id=\"df-1ac86404-36bf-445d-948f-dd419ffd7b3c\" class=\"colab-df-container\">\n",
              "    <div>\n",
              "<style scoped>\n",
              "    .dataframe tbody tr th:only-of-type {\n",
              "        vertical-align: middle;\n",
              "    }\n",
              "\n",
              "    .dataframe tbody tr th {\n",
              "        vertical-align: top;\n",
              "    }\n",
              "\n",
              "    .dataframe thead th {\n",
              "        text-align: right;\n",
              "    }\n",
              "</style>\n",
              "<table border=\"1\" class=\"dataframe\">\n",
              "  <thead>\n",
              "    <tr style=\"text-align: right;\">\n",
              "      <th></th>\n",
              "      <th>AT</th>\n",
              "      <th>V</th>\n",
              "      <th>AP</th>\n",
              "      <th>RH</th>\n",
              "      <th>PE</th>\n",
              "    </tr>\n",
              "  </thead>\n",
              "  <tbody>\n",
              "    <tr>\n",
              "      <th>0</th>\n",
              "      <td>14.96</td>\n",
              "      <td>41.76</td>\n",
              "      <td>1024.07</td>\n",
              "      <td>73.17</td>\n",
              "      <td>463.26</td>\n",
              "    </tr>\n",
              "    <tr>\n",
              "      <th>1</th>\n",
              "      <td>25.18</td>\n",
              "      <td>62.96</td>\n",
              "      <td>1020.04</td>\n",
              "      <td>59.08</td>\n",
              "      <td>444.37</td>\n",
              "    </tr>\n",
              "    <tr>\n",
              "      <th>2</th>\n",
              "      <td>5.11</td>\n",
              "      <td>39.40</td>\n",
              "      <td>1012.16</td>\n",
              "      <td>92.14</td>\n",
              "      <td>488.56</td>\n",
              "    </tr>\n",
              "    <tr>\n",
              "      <th>3</th>\n",
              "      <td>20.86</td>\n",
              "      <td>57.32</td>\n",
              "      <td>1010.24</td>\n",
              "      <td>76.64</td>\n",
              "      <td>446.48</td>\n",
              "    </tr>\n",
              "    <tr>\n",
              "      <th>4</th>\n",
              "      <td>10.82</td>\n",
              "      <td>37.50</td>\n",
              "      <td>1009.23</td>\n",
              "      <td>96.62</td>\n",
              "      <td>473.90</td>\n",
              "    </tr>\n",
              "  </tbody>\n",
              "</table>\n",
              "</div>\n",
              "    <div class=\"colab-df-buttons\">\n",
              "\n",
              "  <div class=\"colab-df-container\">\n",
              "    <button class=\"colab-df-convert\" onclick=\"convertToInteractive('df-1ac86404-36bf-445d-948f-dd419ffd7b3c')\"\n",
              "            title=\"Convert this dataframe to an interactive table.\"\n",
              "            style=\"display:none;\">\n",
              "\n",
              "  <svg xmlns=\"http://www.w3.org/2000/svg\" height=\"24px\" viewBox=\"0 -960 960 960\">\n",
              "    <path d=\"M120-120v-720h720v720H120Zm60-500h600v-160H180v160Zm220 220h160v-160H400v160Zm0 220h160v-160H400v160ZM180-400h160v-160H180v160Zm440 0h160v-160H620v160ZM180-180h160v-160H180v160Zm440 0h160v-160H620v160Z\"/>\n",
              "  </svg>\n",
              "    </button>\n",
              "\n",
              "  <style>\n",
              "    .colab-df-container {\n",
              "      display:flex;\n",
              "      gap: 12px;\n",
              "    }\n",
              "\n",
              "    .colab-df-convert {\n",
              "      background-color: #E8F0FE;\n",
              "      border: none;\n",
              "      border-radius: 50%;\n",
              "      cursor: pointer;\n",
              "      display: none;\n",
              "      fill: #1967D2;\n",
              "      height: 32px;\n",
              "      padding: 0 0 0 0;\n",
              "      width: 32px;\n",
              "    }\n",
              "\n",
              "    .colab-df-convert:hover {\n",
              "      background-color: #E2EBFA;\n",
              "      box-shadow: 0px 1px 2px rgba(60, 64, 67, 0.3), 0px 1px 3px 1px rgba(60, 64, 67, 0.15);\n",
              "      fill: #174EA6;\n",
              "    }\n",
              "\n",
              "    .colab-df-buttons div {\n",
              "      margin-bottom: 4px;\n",
              "    }\n",
              "\n",
              "    [theme=dark] .colab-df-convert {\n",
              "      background-color: #3B4455;\n",
              "      fill: #D2E3FC;\n",
              "    }\n",
              "\n",
              "    [theme=dark] .colab-df-convert:hover {\n",
              "      background-color: #434B5C;\n",
              "      box-shadow: 0px 1px 3px 1px rgba(0, 0, 0, 0.15);\n",
              "      filter: drop-shadow(0px 1px 2px rgba(0, 0, 0, 0.3));\n",
              "      fill: #FFFFFF;\n",
              "    }\n",
              "  </style>\n",
              "\n",
              "    <script>\n",
              "      const buttonEl =\n",
              "        document.querySelector('#df-1ac86404-36bf-445d-948f-dd419ffd7b3c button.colab-df-convert');\n",
              "      buttonEl.style.display =\n",
              "        google.colab.kernel.accessAllowed ? 'block' : 'none';\n",
              "\n",
              "      async function convertToInteractive(key) {\n",
              "        const element = document.querySelector('#df-1ac86404-36bf-445d-948f-dd419ffd7b3c');\n",
              "        const dataTable =\n",
              "          await google.colab.kernel.invokeFunction('convertToInteractive',\n",
              "                                                    [key], {});\n",
              "        if (!dataTable) return;\n",
              "\n",
              "        const docLinkHtml = 'Like what you see? Visit the ' +\n",
              "          '<a target=\"_blank\" href=https://colab.research.google.com/notebooks/data_table.ipynb>data table notebook</a>'\n",
              "          + ' to learn more about interactive tables.';\n",
              "        element.innerHTML = '';\n",
              "        dataTable['output_type'] = 'display_data';\n",
              "        await google.colab.output.renderOutput(dataTable, element);\n",
              "        const docLink = document.createElement('div');\n",
              "        docLink.innerHTML = docLinkHtml;\n",
              "        element.appendChild(docLink);\n",
              "      }\n",
              "    </script>\n",
              "  </div>\n",
              "\n",
              "\n",
              "<div id=\"df-0ac9b582-2bc0-465e-8bbf-36e70237eaa6\">\n",
              "  <button class=\"colab-df-quickchart\" onclick=\"quickchart('df-0ac9b582-2bc0-465e-8bbf-36e70237eaa6')\"\n",
              "            title=\"Suggest charts\"\n",
              "            style=\"display:none;\">\n",
              "\n",
              "<svg xmlns=\"http://www.w3.org/2000/svg\" height=\"24px\"viewBox=\"0 0 24 24\"\n",
              "     width=\"24px\">\n",
              "    <g>\n",
              "        <path d=\"M19 3H5c-1.1 0-2 .9-2 2v14c0 1.1.9 2 2 2h14c1.1 0 2-.9 2-2V5c0-1.1-.9-2-2-2zM9 17H7v-7h2v7zm4 0h-2V7h2v10zm4 0h-2v-4h2v4z\"/>\n",
              "    </g>\n",
              "</svg>\n",
              "  </button>\n",
              "\n",
              "<style>\n",
              "  .colab-df-quickchart {\n",
              "      --bg-color: #E8F0FE;\n",
              "      --fill-color: #1967D2;\n",
              "      --hover-bg-color: #E2EBFA;\n",
              "      --hover-fill-color: #174EA6;\n",
              "      --disabled-fill-color: #AAA;\n",
              "      --disabled-bg-color: #DDD;\n",
              "  }\n",
              "\n",
              "  [theme=dark] .colab-df-quickchart {\n",
              "      --bg-color: #3B4455;\n",
              "      --fill-color: #D2E3FC;\n",
              "      --hover-bg-color: #434B5C;\n",
              "      --hover-fill-color: #FFFFFF;\n",
              "      --disabled-bg-color: #3B4455;\n",
              "      --disabled-fill-color: #666;\n",
              "  }\n",
              "\n",
              "  .colab-df-quickchart {\n",
              "    background-color: var(--bg-color);\n",
              "    border: none;\n",
              "    border-radius: 50%;\n",
              "    cursor: pointer;\n",
              "    display: none;\n",
              "    fill: var(--fill-color);\n",
              "    height: 32px;\n",
              "    padding: 0;\n",
              "    width: 32px;\n",
              "  }\n",
              "\n",
              "  .colab-df-quickchart:hover {\n",
              "    background-color: var(--hover-bg-color);\n",
              "    box-shadow: 0 1px 2px rgba(60, 64, 67, 0.3), 0 1px 3px 1px rgba(60, 64, 67, 0.15);\n",
              "    fill: var(--button-hover-fill-color);\n",
              "  }\n",
              "\n",
              "  .colab-df-quickchart-complete:disabled,\n",
              "  .colab-df-quickchart-complete:disabled:hover {\n",
              "    background-color: var(--disabled-bg-color);\n",
              "    fill: var(--disabled-fill-color);\n",
              "    box-shadow: none;\n",
              "  }\n",
              "\n",
              "  .colab-df-spinner {\n",
              "    border: 2px solid var(--fill-color);\n",
              "    border-color: transparent;\n",
              "    border-bottom-color: var(--fill-color);\n",
              "    animation:\n",
              "      spin 1s steps(1) infinite;\n",
              "  }\n",
              "\n",
              "  @keyframes spin {\n",
              "    0% {\n",
              "      border-color: transparent;\n",
              "      border-bottom-color: var(--fill-color);\n",
              "      border-left-color: var(--fill-color);\n",
              "    }\n",
              "    20% {\n",
              "      border-color: transparent;\n",
              "      border-left-color: var(--fill-color);\n",
              "      border-top-color: var(--fill-color);\n",
              "    }\n",
              "    30% {\n",
              "      border-color: transparent;\n",
              "      border-left-color: var(--fill-color);\n",
              "      border-top-color: var(--fill-color);\n",
              "      border-right-color: var(--fill-color);\n",
              "    }\n",
              "    40% {\n",
              "      border-color: transparent;\n",
              "      border-right-color: var(--fill-color);\n",
              "      border-top-color: var(--fill-color);\n",
              "    }\n",
              "    60% {\n",
              "      border-color: transparent;\n",
              "      border-right-color: var(--fill-color);\n",
              "    }\n",
              "    80% {\n",
              "      border-color: transparent;\n",
              "      border-right-color: var(--fill-color);\n",
              "      border-bottom-color: var(--fill-color);\n",
              "    }\n",
              "    90% {\n",
              "      border-color: transparent;\n",
              "      border-bottom-color: var(--fill-color);\n",
              "    }\n",
              "  }\n",
              "</style>\n",
              "\n",
              "  <script>\n",
              "    async function quickchart(key) {\n",
              "      const quickchartButtonEl =\n",
              "        document.querySelector('#' + key + ' button');\n",
              "      quickchartButtonEl.disabled = true;  // To prevent multiple clicks.\n",
              "      quickchartButtonEl.classList.add('colab-df-spinner');\n",
              "      try {\n",
              "        const charts = await google.colab.kernel.invokeFunction(\n",
              "            'suggestCharts', [key], {});\n",
              "      } catch (error) {\n",
              "        console.error('Error during call to suggestCharts:', error);\n",
              "      }\n",
              "      quickchartButtonEl.classList.remove('colab-df-spinner');\n",
              "      quickchartButtonEl.classList.add('colab-df-quickchart-complete');\n",
              "    }\n",
              "    (() => {\n",
              "      let quickchartButtonEl =\n",
              "        document.querySelector('#df-0ac9b582-2bc0-465e-8bbf-36e70237eaa6 button');\n",
              "      quickchartButtonEl.style.display =\n",
              "        google.colab.kernel.accessAllowed ? 'block' : 'none';\n",
              "    })();\n",
              "  </script>\n",
              "</div>\n",
              "\n",
              "    </div>\n",
              "  </div>\n"
            ],
            "application/vnd.google.colaboratory.intrinsic+json": {
              "type": "dataframe",
              "variable_name": "data",
              "summary": "{\n  \"name\": \"data\",\n  \"rows\": 9568,\n  \"fields\": [\n    {\n      \"column\": \"AT\",\n      \"properties\": {\n        \"dtype\": \"number\",\n        \"std\": 7.452473229611079,\n        \"min\": 1.81,\n        \"max\": 37.11,\n        \"num_unique_values\": 2773,\n        \"samples\": [\n          12.54,\n          4.49,\n          6.64\n        ],\n        \"semantic_type\": \"\",\n        \"description\": \"\"\n      }\n    },\n    {\n      \"column\": \"V\",\n      \"properties\": {\n        \"dtype\": \"number\",\n        \"std\": 12.707892998326809,\n        \"min\": 25.36,\n        \"max\": 81.56,\n        \"num_unique_values\": 634,\n        \"samples\": [\n          74.33,\n          73.67,\n          58.82\n        ],\n        \"semantic_type\": \"\",\n        \"description\": \"\"\n      }\n    },\n    {\n      \"column\": \"AP\",\n      \"properties\": {\n        \"dtype\": \"number\",\n        \"std\": 5.938783705811607,\n        \"min\": 992.89,\n        \"max\": 1033.3,\n        \"num_unique_values\": 2517,\n        \"samples\": [\n          1020.46,\n          1015.73,\n          1027.64\n        ],\n        \"semantic_type\": \"\",\n        \"description\": \"\"\n      }\n    },\n    {\n      \"column\": \"RH\",\n      \"properties\": {\n        \"dtype\": \"number\",\n        \"std\": 14.600268756728953,\n        \"min\": 25.56,\n        \"max\": 100.16,\n        \"num_unique_values\": 4546,\n        \"samples\": [\n          62.8,\n          82.33,\n          47.19\n        ],\n        \"semantic_type\": \"\",\n        \"description\": \"\"\n      }\n    },\n    {\n      \"column\": \"PE\",\n      \"properties\": {\n        \"dtype\": \"number\",\n        \"std\": 17.066994999803416,\n        \"min\": 420.26,\n        \"max\": 495.76,\n        \"num_unique_values\": 4836,\n        \"samples\": [\n          473.87,\n          475.41,\n          468.81\n        ],\n        \"semantic_type\": \"\",\n        \"description\": \"\"\n      }\n    }\n  ]\n}"
            }
          },
          "metadata": {},
          "execution_count": 4
        }
      ]
    },
    {
      "cell_type": "code",
      "source": [
        "X=data.iloc[:,:-1].values\n",
        "y=data.iloc[:,-1].values"
      ],
      "metadata": {
        "id": "mHIz8ylgIAIA"
      },
      "execution_count": 5,
      "outputs": []
    },
    {
      "cell_type": "code",
      "source": [
        "print(X)\n"
      ],
      "metadata": {
        "colab": {
          "base_uri": "https://localhost:8080/"
        },
        "id": "KZwNLaGpIJNn",
        "outputId": "21995568-c27c-424a-dc96-547d4ab90f70"
      },
      "execution_count": 6,
      "outputs": [
        {
          "output_type": "stream",
          "name": "stdout",
          "text": [
            "[[  14.96   41.76 1024.07   73.17]\n",
            " [  25.18   62.96 1020.04   59.08]\n",
            " [   5.11   39.4  1012.16   92.14]\n",
            " ...\n",
            " [  31.32   74.33 1012.92   36.48]\n",
            " [  24.48   69.45 1013.86   62.39]\n",
            " [  21.6    62.52 1017.23   67.87]]\n"
          ]
        }
      ]
    },
    {
      "cell_type": "code",
      "source": [
        "print(y)"
      ],
      "metadata": {
        "colab": {
          "base_uri": "https://localhost:8080/"
        },
        "id": "K2LZwfykIZR5",
        "outputId": "75fccff8-d8f1-4d67-c877-5333a3d07ba6"
      },
      "execution_count": 7,
      "outputs": [
        {
          "output_type": "stream",
          "name": "stdout",
          "text": [
            "[463.26 444.37 488.56 ... 429.57 435.74 453.28]\n"
          ]
        }
      ]
    },
    {
      "cell_type": "markdown",
      "metadata": {
        "id": "VC6omXel_Up0"
      },
      "source": [
        "### Splitting the dataset into the Training set and Test set"
      ]
    },
    {
      "cell_type": "code",
      "source": [
        "from sklearn.model_selection import train_test_split\n",
        "X_train, X_test, y_train, y_test = train_test_split(X, y, test_size = 0.2, random_state = 0)"
      ],
      "metadata": {
        "id": "h6lyKPErIcIa"
      },
      "execution_count": 8,
      "outputs": []
    },
    {
      "cell_type": "code",
      "source": [
        "print(X_train)"
      ],
      "metadata": {
        "id": "2duvXd8OJYya",
        "outputId": "b03aa922-e097-4075-dfd4-c2a98efe2219",
        "colab": {
          "base_uri": "https://localhost:8080/"
        }
      },
      "execution_count": 9,
      "outputs": [
        {
          "output_type": "stream",
          "name": "stdout",
          "text": [
            "[[  11.22   43.13 1017.24   80.9 ]\n",
            " [  13.67   54.3  1015.92   75.42]\n",
            " [  32.84   77.95 1014.68   45.8 ]\n",
            " ...\n",
            " [  16.81   38.52 1018.26   75.21]\n",
            " [  12.8    41.16 1022.43   86.19]\n",
            " [  32.32   67.9  1006.08   37.93]]\n"
          ]
        }
      ]
    },
    {
      "cell_type": "code",
      "source": [
        "print(y_train)"
      ],
      "metadata": {
        "colab": {
          "base_uri": "https://localhost:8080/"
        },
        "id": "za0VKj2Y0Ooe",
        "outputId": "c73301f7-5209-4cf5-a7bb-6d022c5e72e7"
      },
      "execution_count": 10,
      "outputs": [
        {
          "output_type": "stream",
          "name": "stdout",
          "text": [
            "[473.93 467.87 431.97 ... 459.01 462.72 428.12]\n"
          ]
        }
      ]
    },
    {
      "cell_type": "code",
      "source": [
        "ann = tf.keras.models.Sequential()"
      ],
      "metadata": {
        "id": "P0RYyQZ0JX7d"
      },
      "execution_count": 11,
      "outputs": []
    },
    {
      "cell_type": "markdown",
      "metadata": {
        "id": "iitAFJS_ABUn"
      },
      "source": [
        "### Adding the input layer and the first hidden layer"
      ]
    },
    {
      "cell_type": "code",
      "source": [
        "ann.add(tf.keras.layers.Dense(units=6, activation='relu'))"
      ],
      "metadata": {
        "id": "QmX86lIf0bHe"
      },
      "execution_count": 12,
      "outputs": []
    },
    {
      "cell_type": "markdown",
      "metadata": {
        "id": "-lb4kK_wAKbs"
      },
      "source": [
        "### Adding the second hidden layer"
      ]
    },
    {
      "cell_type": "code",
      "source": [
        "ann.add(tf.keras.layers.Dense(units=6, activation='relu'))"
      ],
      "metadata": {
        "id": "5OhKjOlq0nBf"
      },
      "execution_count": 13,
      "outputs": []
    },
    {
      "cell_type": "markdown",
      "metadata": {
        "id": "jwMOmKb3AdBY"
      },
      "source": [
        "### Adding the output layer"
      ]
    },
    {
      "cell_type": "code",
      "source": [
        "ann.add(tf.keras.layers.Dense(units=1))"
      ],
      "metadata": {
        "id": "0H97qoVr0sOf"
      },
      "execution_count": 14,
      "outputs": []
    },
    {
      "cell_type": "markdown",
      "metadata": {
        "id": "qDeylAs2An25"
      },
      "source": [
        "### Compiling the ANN"
      ]
    },
    {
      "cell_type": "code",
      "source": [
        "ann.compile(optimizer = 'adam', loss = 'mean_squared_error')"
      ],
      "metadata": {
        "id": "69iweoVC0wtd"
      },
      "execution_count": 15,
      "outputs": []
    },
    {
      "cell_type": "code",
      "source": [
        "ann.fit(X_train, y_train, batch_size = 32, epochs = 100)"
      ],
      "metadata": {
        "colab": {
          "base_uri": "https://localhost:8080/"
        },
        "id": "UXfWjgha0665",
        "outputId": "c0f304a0-43c9-4b62-c192-07fcc0c2b878"
      },
      "execution_count": 16,
      "outputs": [
        {
          "output_type": "stream",
          "name": "stdout",
          "text": [
            "Epoch 1/100\n",
            "240/240 [==============================] - 1s 2ms/step - loss: 3604.4946\n",
            "Epoch 2/100\n",
            "240/240 [==============================] - 0s 2ms/step - loss: 118.9173\n",
            "Epoch 3/100\n",
            "240/240 [==============================] - 0s 2ms/step - loss: 113.8365\n",
            "Epoch 4/100\n",
            "240/240 [==============================] - 0s 2ms/step - loss: 107.9276\n",
            "Epoch 5/100\n",
            "240/240 [==============================] - 0s 2ms/step - loss: 101.7441\n",
            "Epoch 6/100\n",
            "240/240 [==============================] - 0s 2ms/step - loss: 95.0143\n",
            "Epoch 7/100\n",
            "240/240 [==============================] - 0s 2ms/step - loss: 88.4174\n",
            "Epoch 8/100\n",
            "240/240 [==============================] - 0s 2ms/step - loss: 81.5451\n",
            "Epoch 9/100\n",
            "240/240 [==============================] - 0s 2ms/step - loss: 75.3268\n",
            "Epoch 10/100\n",
            "240/240 [==============================] - 0s 2ms/step - loss: 68.9022\n",
            "Epoch 11/100\n",
            "240/240 [==============================] - 0s 2ms/step - loss: 63.5237\n",
            "Epoch 12/100\n",
            "240/240 [==============================] - 0s 2ms/step - loss: 58.8658\n",
            "Epoch 13/100\n",
            "240/240 [==============================] - 0s 2ms/step - loss: 55.0599\n",
            "Epoch 14/100\n",
            "240/240 [==============================] - 0s 2ms/step - loss: 51.1806\n",
            "Epoch 15/100\n",
            "240/240 [==============================] - 0s 2ms/step - loss: 48.2873\n",
            "Epoch 16/100\n",
            "240/240 [==============================] - 0s 2ms/step - loss: 46.1133\n",
            "Epoch 17/100\n",
            "240/240 [==============================] - 0s 2ms/step - loss: 44.7275\n",
            "Epoch 18/100\n",
            "240/240 [==============================] - 0s 2ms/step - loss: 43.7268\n",
            "Epoch 19/100\n",
            "240/240 [==============================] - 0s 2ms/step - loss: 42.0388\n",
            "Epoch 20/100\n",
            "240/240 [==============================] - 1s 3ms/step - loss: 40.4253\n",
            "Epoch 21/100\n",
            "240/240 [==============================] - 1s 4ms/step - loss: 38.9136\n",
            "Epoch 22/100\n",
            "240/240 [==============================] - 1s 3ms/step - loss: 38.1038\n",
            "Epoch 23/100\n",
            "240/240 [==============================] - 1s 3ms/step - loss: 36.7317\n",
            "Epoch 24/100\n",
            "240/240 [==============================] - 1s 2ms/step - loss: 35.5608\n",
            "Epoch 25/100\n",
            "240/240 [==============================] - 1s 2ms/step - loss: 35.7835\n",
            "Epoch 26/100\n",
            "240/240 [==============================] - 0s 2ms/step - loss: 34.0193\n",
            "Epoch 27/100\n",
            "240/240 [==============================] - 0s 2ms/step - loss: 33.0453\n",
            "Epoch 28/100\n",
            "240/240 [==============================] - 0s 2ms/step - loss: 32.8555\n",
            "Epoch 29/100\n",
            "240/240 [==============================] - 0s 2ms/step - loss: 31.9577\n",
            "Epoch 30/100\n",
            "240/240 [==============================] - 0s 2ms/step - loss: 31.7297\n",
            "Epoch 31/100\n",
            "240/240 [==============================] - 0s 2ms/step - loss: 32.0858\n",
            "Epoch 32/100\n",
            "240/240 [==============================] - 0s 2ms/step - loss: 30.2473\n",
            "Epoch 33/100\n",
            "240/240 [==============================] - 0s 2ms/step - loss: 30.1829\n",
            "Epoch 34/100\n",
            "240/240 [==============================] - 0s 2ms/step - loss: 29.7379\n",
            "Epoch 35/100\n",
            "240/240 [==============================] - 0s 2ms/step - loss: 29.3633\n",
            "Epoch 36/100\n",
            "240/240 [==============================] - 0s 2ms/step - loss: 29.2665\n",
            "Epoch 37/100\n",
            "240/240 [==============================] - 0s 2ms/step - loss: 28.5963\n",
            "Epoch 38/100\n",
            "240/240 [==============================] - 0s 2ms/step - loss: 29.3113\n",
            "Epoch 39/100\n",
            "240/240 [==============================] - 0s 2ms/step - loss: 27.7629\n",
            "Epoch 40/100\n",
            "240/240 [==============================] - 0s 2ms/step - loss: 28.8887\n",
            "Epoch 41/100\n",
            "240/240 [==============================] - 0s 2ms/step - loss: 27.8712\n",
            "Epoch 42/100\n",
            "240/240 [==============================] - 0s 2ms/step - loss: 27.3464\n",
            "Epoch 43/100\n",
            "240/240 [==============================] - 0s 2ms/step - loss: 27.6346\n",
            "Epoch 44/100\n",
            "240/240 [==============================] - 0s 2ms/step - loss: 27.8273\n",
            "Epoch 45/100\n",
            "240/240 [==============================] - 0s 2ms/step - loss: 29.1222\n",
            "Epoch 46/100\n",
            "240/240 [==============================] - 1s 2ms/step - loss: 27.0972\n",
            "Epoch 47/100\n",
            "240/240 [==============================] - 0s 2ms/step - loss: 28.5379\n",
            "Epoch 48/100\n",
            "240/240 [==============================] - 0s 2ms/step - loss: 27.4282\n",
            "Epoch 49/100\n",
            "240/240 [==============================] - 1s 3ms/step - loss: 27.4158\n",
            "Epoch 50/100\n",
            "240/240 [==============================] - 1s 3ms/step - loss: 28.5267\n",
            "Epoch 51/100\n",
            "240/240 [==============================] - 1s 3ms/step - loss: 28.2098\n",
            "Epoch 52/100\n",
            "240/240 [==============================] - 1s 4ms/step - loss: 27.0071\n",
            "Epoch 53/100\n",
            "240/240 [==============================] - 1s 3ms/step - loss: 26.9850\n",
            "Epoch 54/100\n",
            "240/240 [==============================] - 1s 2ms/step - loss: 27.1430\n",
            "Epoch 55/100\n",
            "240/240 [==============================] - 0s 2ms/step - loss: 27.4341\n",
            "Epoch 56/100\n",
            "240/240 [==============================] - 0s 2ms/step - loss: 27.8906\n",
            "Epoch 57/100\n",
            "240/240 [==============================] - 0s 2ms/step - loss: 27.0575\n",
            "Epoch 58/100\n",
            "240/240 [==============================] - 0s 2ms/step - loss: 26.7867\n",
            "Epoch 59/100\n",
            "240/240 [==============================] - 0s 2ms/step - loss: 27.1093\n",
            "Epoch 60/100\n",
            "240/240 [==============================] - 0s 2ms/step - loss: 27.6422\n",
            "Epoch 61/100\n",
            "240/240 [==============================] - 0s 2ms/step - loss: 28.2103\n",
            "Epoch 62/100\n",
            "240/240 [==============================] - 0s 2ms/step - loss: 26.6869\n",
            "Epoch 63/100\n",
            "240/240 [==============================] - 0s 2ms/step - loss: 27.1461\n",
            "Epoch 64/100\n",
            "240/240 [==============================] - 0s 2ms/step - loss: 27.3383\n",
            "Epoch 65/100\n",
            "240/240 [==============================] - 0s 2ms/step - loss: 26.8481\n",
            "Epoch 66/100\n",
            "240/240 [==============================] - 0s 2ms/step - loss: 27.2941\n",
            "Epoch 67/100\n",
            "240/240 [==============================] - 0s 2ms/step - loss: 27.2681\n",
            "Epoch 68/100\n",
            "240/240 [==============================] - 0s 2ms/step - loss: 27.0968\n",
            "Epoch 69/100\n",
            "240/240 [==============================] - 0s 2ms/step - loss: 27.5299\n",
            "Epoch 70/100\n",
            "240/240 [==============================] - 0s 2ms/step - loss: 27.4477\n",
            "Epoch 71/100\n",
            "240/240 [==============================] - 0s 2ms/step - loss: 27.2320\n",
            "Epoch 72/100\n",
            "240/240 [==============================] - 0s 2ms/step - loss: 27.4327\n",
            "Epoch 73/100\n",
            "240/240 [==============================] - 0s 2ms/step - loss: 27.6257\n",
            "Epoch 74/100\n",
            "240/240 [==============================] - 0s 2ms/step - loss: 27.2494\n",
            "Epoch 75/100\n",
            "240/240 [==============================] - 0s 2ms/step - loss: 27.5956\n",
            "Epoch 76/100\n",
            "240/240 [==============================] - 0s 2ms/step - loss: 27.1692\n",
            "Epoch 77/100\n",
            "240/240 [==============================] - 0s 2ms/step - loss: 27.8398\n",
            "Epoch 78/100\n",
            "240/240 [==============================] - 1s 2ms/step - loss: 27.4461\n",
            "Epoch 79/100\n",
            "240/240 [==============================] - 1s 3ms/step - loss: 26.9669\n",
            "Epoch 80/100\n",
            "240/240 [==============================] - 1s 2ms/step - loss: 28.1031\n",
            "Epoch 81/100\n",
            "240/240 [==============================] - 1s 3ms/step - loss: 27.5154\n",
            "Epoch 82/100\n",
            "240/240 [==============================] - 1s 3ms/step - loss: 26.8251\n",
            "Epoch 83/100\n",
            "240/240 [==============================] - 1s 2ms/step - loss: 27.3577\n",
            "Epoch 84/100\n",
            "240/240 [==============================] - 1s 3ms/step - loss: 27.2311\n",
            "Epoch 85/100\n",
            "240/240 [==============================] - 0s 2ms/step - loss: 27.5845\n",
            "Epoch 86/100\n",
            "240/240 [==============================] - 0s 2ms/step - loss: 27.3586\n",
            "Epoch 87/100\n",
            "240/240 [==============================] - 0s 2ms/step - loss: 27.4624\n",
            "Epoch 88/100\n",
            "240/240 [==============================] - 0s 2ms/step - loss: 26.8914\n",
            "Epoch 89/100\n",
            "240/240 [==============================] - 0s 2ms/step - loss: 27.3870\n",
            "Epoch 90/100\n",
            "240/240 [==============================] - 0s 2ms/step - loss: 27.0507\n",
            "Epoch 91/100\n",
            "240/240 [==============================] - 0s 2ms/step - loss: 26.9114\n",
            "Epoch 92/100\n",
            "240/240 [==============================] - 0s 2ms/step - loss: 27.0416\n",
            "Epoch 93/100\n",
            "240/240 [==============================] - 0s 2ms/step - loss: 27.0941\n",
            "Epoch 94/100\n",
            "240/240 [==============================] - 0s 2ms/step - loss: 27.3553\n",
            "Epoch 95/100\n",
            "240/240 [==============================] - 0s 2ms/step - loss: 27.0089\n",
            "Epoch 96/100\n",
            "240/240 [==============================] - 0s 2ms/step - loss: 27.2082\n",
            "Epoch 97/100\n",
            "240/240 [==============================] - 0s 2ms/step - loss: 27.1793\n",
            "Epoch 98/100\n",
            "240/240 [==============================] - 0s 2ms/step - loss: 27.2585\n",
            "Epoch 99/100\n",
            "240/240 [==============================] - 0s 2ms/step - loss: 27.5169\n",
            "Epoch 100/100\n",
            "240/240 [==============================] - 0s 2ms/step - loss: 27.2438\n"
          ]
        },
        {
          "output_type": "execute_result",
          "data": {
            "text/plain": [
              "<keras.src.callbacks.History at 0x7ce749b16f20>"
            ]
          },
          "metadata": {},
          "execution_count": 16
        }
      ]
    },
    {
      "cell_type": "markdown",
      "metadata": {
        "id": "0H0zKKNEBLD5"
      },
      "source": [
        "### Predicting the results of the Test set"
      ]
    },
    {
      "cell_type": "code",
      "source": [
        "y_pred = ann.predict(X_test)\n",
        "np.set_printoptions(precision=2)\n",
        "print(np.concatenate((y_pred.reshape(len(y_pred),1), y_test.reshape(len(y_test),1)),1))"
      ],
      "metadata": {
        "colab": {
          "base_uri": "https://localhost:8080/"
        },
        "id": "OV-P_QLJ4DKz",
        "outputId": "04404dc1-84bf-4692-a03f-03ac05c40bbb"
      },
      "execution_count": 17,
      "outputs": [
        {
          "output_type": "stream",
          "name": "stdout",
          "text": [
            "60/60 [==============================] - 0s 1ms/step\n",
            "[[428.75 431.23]\n",
            " [459.62 460.01]\n",
            " [463.07 461.14]\n",
            " ...\n",
            " [470.35 473.26]\n",
            " [437.15 438.  ]\n",
            " [456.34 463.28]]\n"
          ]
        }
      ]
    },
    {
      "cell_type": "markdown",
      "source": [
        "Accuracy of ANN_REGRESSION:"
      ],
      "metadata": {
        "id": "XzmLxjMP5KKg"
      }
    },
    {
      "cell_type": "code",
      "source": [
        "from sklearn.metrics import r2_score\n",
        "r2_score=r2_score(y_test,y_pred)\n",
        "print(\"Accuracy :\",r2_score)"
      ],
      "metadata": {
        "colab": {
          "base_uri": "https://localhost:8080/"
        },
        "id": "QGt6pTq84NWQ",
        "outputId": "57a18010-ec9c-4d0c-ae9e-1321b12f81b6"
      },
      "execution_count": 21,
      "outputs": [
        {
          "output_type": "stream",
          "name": "stdout",
          "text": [
            "Accuracy : 0.8917222748742633\n"
          ]
        }
      ]
    }
  ]
}